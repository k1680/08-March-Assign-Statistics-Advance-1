{
 "cells": [
  {
   "cell_type": "code",
   "execution_count": 1,
   "id": "eec3c597-3bff-45eb-8711-a19033a9fb85",
   "metadata": {},
   "outputs": [
    {
     "data": {
      "text/plain": [
       "'Q1. What is the Probability density function?\\n\\n    Ans: Probability density function (PDF) is a concept in probability theory that is used to describe the likelihood of a continuous random variable taking on a particular \\n         value. Essentially, it provides a way of calculating the probability that a variable falls within a specific range.\\n         PDF is a function that shows how likely a continuous random variable is to take on a specific value or range of values. The PDF can be graphed as a curve, \\n         where the area under the curve represents the total probability of all possible values. The shape of the curve can provide important insights into the \\n         nature of the random variable and its underlying probability distribution.\\n'"
      ]
     },
     "execution_count": 1,
     "metadata": {},
     "output_type": "execute_result"
    }
   ],
   "source": [
    "\"\"\"Q1. What is the Probability density function?\n",
    "\n",
    "    Ans: Probability density function (PDF) is a concept in probability theory that is used to describe the likelihood of a continuous random variable taking on a particular \n",
    "         value. Essentially, it provides a way of calculating the probability that a variable falls within a specific range.\n",
    "         PDF is a function that shows how likely a continuous random variable is to take on a specific value or range of values. The PDF can be graphed as a curve, \n",
    "         where the area under the curve represents the total probability of all possible values. The shape of the curve can provide important insights into the \n",
    "         nature of the random variable and its underlying probability distribution.\n",
    "\"\"\""
   ]
  },
  {
   "cell_type": "code",
   "execution_count": 2,
   "id": "7674ed67-0ae9-45ad-a65c-3c36900e9385",
   "metadata": {},
   "outputs": [
    {
     "data": {
      "text/plain": [
       "'Q2. What are the types of Probability distribution?\\n\\n    Ans: Types of probability distributions:\\n            1. Normal/Gaussian distribution.\\n            2. Binomial distribution\\n            3. Poisson distribution\\n            4. Uniform distribution\\n            5. Bernoulli distribution\\n            6. log normal distribution\\n'"
      ]
     },
     "execution_count": 2,
     "metadata": {},
     "output_type": "execute_result"
    }
   ],
   "source": [
    "\"\"\"Q2. What are the types of Probability distribution?\n",
    "\n",
    "    Ans: Types of probability distributions:\n",
    "            1. Normal/Gaussian distribution.\n",
    "            2. Binomial distribution\n",
    "            3. Poisson distribution\n",
    "            4. Uniform distribution\n",
    "            5. Bernoulli distribution\n",
    "            6. log normal distribution\n",
    "\"\"\""
   ]
  },
  {
   "cell_type": "code",
   "execution_count": 3,
   "id": "b973025c-2c5c-4235-9e75-e0c8cd7dea90",
   "metadata": {},
   "outputs": [
    {
     "name": "stdout",
     "output_type": "stream",
     "text": [
      "0.24197072451914337\n"
     ]
    }
   ],
   "source": [
    "\"\"\"Q3. Write a Python function to calculate the probability density function of a normal distribution with given mean and standard deviation at a given point.\"\"\"\n",
    "\n",
    "from scipy.stats import norm\n",
    "\n",
    "def normal_pdf(mean, std_dev, x):\n",
    "    return norm.pdf(x, loc=mean, scale=std_dev)\n",
    "\n",
    "mean = 0\n",
    "std_dev = 1\n",
    "x = 1\n",
    "\n",
    "pdf = normal_pdf(mean, std_dev, x)\n",
    "print(pdf)  "
   ]
  },
  {
   "cell_type": "code",
   "execution_count": 4,
   "id": "b138ff50-b646-43ca-b657-49b7e73b4e03",
   "metadata": {},
   "outputs": [
    {
     "data": {
      "text/plain": [
       "'Q4. What are the properties of Binomial distribution? Give two examples of events where binomial distribution can be applied.\\n\\n    Ans: The binomial distribution is a discrete probability distribution that describes the number of successes in a fixed number of independent Bernoulli trials, \\n         where each trial has a constant probability of success.\\n         Properties of the binomial distribution include:\\n            1. The outcomes of each trial are binary (i.e., there are only two possible outcomes).\\n            2. The trials are independent of each other (i.e., the outcome of one trial does not affect the outcome of any other trial).\\n            3. The probability of success (p) is constant across all trials.\\n            4. The number of trials (n) is fixed.\\n         Examples of events where the binomial distribution can be applied include:\\n            1. Flipping a coin: When flipping a coin, the probability of getting heads (or tails) is constant across all flips, and the flips are independent of each other. \\n                The number of heads in a fixed number of flips can be modeled using a binomial distribution.\\n            2. Drug testing: In a clinical trial, a drug might either succeed or fail to cure a patient, and the probability of success is constant across all patients. \\n                The number of patients who are cured out of a fixed number of patients can be modeled using a binomial distribution.\\n'"
      ]
     },
     "execution_count": 4,
     "metadata": {},
     "output_type": "execute_result"
    }
   ],
   "source": [
    "\"\"\"Q4. What are the properties of Binomial distribution? Give two examples of events where binomial distribution can be applied.\n",
    "\n",
    "    Ans: The binomial distribution is a discrete probability distribution that describes the number of successes in a fixed number of independent Bernoulli trials, \n",
    "         where each trial has a constant probability of success.\n",
    "         Properties of the binomial distribution include:\n",
    "            1. The outcomes of each trial are binary (i.e., there are only two possible outcomes).\n",
    "            2. The trials are independent of each other (i.e., the outcome of one trial does not affect the outcome of any other trial).\n",
    "            3. The probability of success (p) is constant across all trials.\n",
    "            4. The number of trials (n) is fixed.\n",
    "         Examples of events where the binomial distribution can be applied include:\n",
    "            1. Flipping a coin: When flipping a coin, the probability of getting heads (or tails) is constant across all flips, and the flips are independent of each other. \n",
    "                The number of heads in a fixed number of flips can be modeled using a binomial distribution.\n",
    "            2. Drug testing: In a clinical trial, a drug might either succeed or fail to cure a patient, and the probability of success is constant across all patients. \n",
    "                The number of patients who are cured out of a fixed number of patients can be modeled using a binomial distribution.\n",
    "\"\"\""
   ]
  },
  {
   "cell_type": "code",
   "execution_count": 5,
   "id": "cfa23744-a1b8-40ce-a058-e7272c8d666f",
   "metadata": {},
   "outputs": [
    {
     "data": {
      "image/png": "[encoded data removed]",
      "text/plain": [
       "<Figure size 640x480 with 1 Axes>"
      ]
     },
     "metadata": {},
     "output_type": "display_data"
    }
   ],
   "source": [
    "\"\"\"Q5. Generate a random sample of size 1000 from a binomial distribution with probability of success 0.4 and plot a histogram of the results using matplotlib.\"\"\"\n",
    "\n",
    "import numpy as np\n",
    "import matplotlib.pyplot as plt\n",
    "\n",
    "n = 1000 \n",
    "p = 0.4 \n",
    "sample = np.random.binomial(n, p, size=1000)\n",
    "\n",
    "plt.hist(sample, bins=30, density=True, alpha=0.5, color='blue')\n",
    "plt.xlabel('Number of Successes')\n",
    "plt.ylabel('Frequency')\n",
    "plt.title('Binomial Distribution (n=1000, p=0.4)')\n",
    "plt.show()"
   ]
  },
  {
   "cell_type": "code",
   "execution_count": 6,
   "id": "b6c755e3-ce79-4c18-8877-aad7d5808bbf",
   "metadata": {},
   "outputs": [
    {
     "name": "stdout",
     "output_type": "stream",
     "text": [
      "0.8152632445237721\n"
     ]
    }
   ],
   "source": [
    "\"\"\"Q6. Write a Python function to calculate the cumulative distribution function of a Poisson distribution with given mean at a given point.\"\"\"\n",
    "\n",
    "import math\n",
    "\n",
    "def poisson_cdf(mean, x):\n",
    "    cdf = 0\n",
    "    for i in range(x+1):\n",
    "        cdf += math.exp(-mean) * (mean**i) / math.factorial(i)\n",
    "    return cdf\n",
    "\n",
    "mean = 3\n",
    "point = 4\n",
    "\n",
    "p_cdf = poisson_cdf(mean, point)\n",
    "print(p_cdf)"
   ]
  },
  {
   "cell_type": "code",
   "execution_count": 8,
   "id": "90b4e37a-f9e9-445a-99db-dc2e222768de",
   "metadata": {},
   "outputs": [
    {
     "data": {
      "text/plain": [
       "'Q7. How Binomial distribution different from Poisson distribution?\\n\\n    Ans: Binomial distribution is a probability distribution that describes the number of successes in a fixed number of independent trials with a constant probability of \\n         success in each trial. Poisson distribution is a probability distribution that describes the number of events occurring in a fixed interval of time or space, \\n         given the average rate of occurrence. While both describe counts of events, the key difference is that binomial distribution has a fixed number of trials, \\n         while Poisson distribution has a fixed interval of time or space.\\n'"
      ]
     },
     "execution_count": 8,
     "metadata": {},
     "output_type": "execute_result"
    }
   ],
   "source": [
    "\"\"\"Q7. How Binomial distribution different from Poisson distribution?\n",
    "\n",
    "    Ans: Binomial distribution is a probability distribution that describes the number of successes in a fixed number of independent trials with a constant probability of \n",
    "         success in each trial. Poisson distribution is a probability distribution that describes the number of events occurring in a fixed interval of time or space, \n",
    "         given the average rate of occurrence. While both describe counts of events, the key difference is that binomial distribution has a fixed number of trials, \n",
    "         while Poisson distribution has a fixed interval of time or space.\n",
    "\"\"\""
   ]
  },
  {
   "cell_type": "code",
   "execution_count": 9,
   "id": "0cd6ea08-4c82-486b-bccb-964723fc9a8e",
   "metadata": {},
   "outputs": [
    {
     "name": "stdout",
     "output_type": "stream",
     "text": [
      "Sample mean: 5.129\n",
      "Sample variance: 5.514359\n"
     ]
    }
   ],
   "source": [
    "\"\"\"Q8. Generate a random sample of size 1000 from a Poisson distribution with mean 5 and calculate the sample mean and variance.\"\"\"\n",
    "\n",
    "import numpy as np\n",
    "\n",
    "sample = np.random.poisson(lam=5, size=1000)\n",
    "sample_mean = np.mean(sample)\n",
    "sample_var = np.var(sample)\n",
    "\n",
    "print(\"Sample mean:\", sample_mean)\n",
    "print(\"Sample variance:\", sample_var)"
   ]
  },
  {
   "cell_type": "code",
   "execution_count": 10,
   "id": "eefe9c23-b5eb-46ce-af4c-8090a3b9e0dd",
   "metadata": {},
   "outputs": [
    {
     "data": {
      "text/plain": [
       "'Q9. How mean and variance are related in Binomial distribution and Poisson distribution?\\n\\n    Ans: In Binomial distribution, mean is n*p and variance is n*p*(1-p), which is variance = mean*(1-p)\\n         In Poisson distribution, mean is lambda*t and variance is lambda * t, in this case mean is equal to variance.\\n'"
      ]
     },
     "execution_count": 10,
     "metadata": {},
     "output_type": "execute_result"
    }
   ],
   "source": [
    "\"\"\"Q9. How mean and variance are related in Binomial distribution and Poisson distribution?\n",
    "\n",
    "    Ans: In Binomial distribution, mean is n*p and variance is n*p*(1-p), which is variance = mean*(1-p)\n",
    "         In Poisson distribution, mean is lambda*t and variance is lambda * t, in this case mean is equal to variance.\n",
    "\"\"\""
   ]
  },
  {
   "cell_type": "code",
   "execution_count": 11,
   "id": "eaec1fb6-fedf-4b62-8e8b-1c3a55561baf",
   "metadata": {},
   "outputs": [
    {
     "data": {
      "text/plain": [
       "'Q10. In normal distribution with respect to mean position, where does the least frequent data appear?\\n\\n    Ans: In a normal distribution, the least frequent data appears in the tails of the distribution, farthest away from the mean. This is because the normal distribution \\n         is symmetric around the mean, and the probability of observing data decreases as we move farther away from the mean in either direction. The tails of the \\n         distribution represent extreme values, which are less likely to occur.\\n'"
      ]
     },
     "execution_count": 11,
     "metadata": {},
     "output_type": "execute_result"
    }
   ],
   "source": [
    "\"\"\"Q10. In normal distribution with respect to mean position, where does the least frequent data appear?\n",
    "\n",
    "    Ans: In a normal distribution, the least frequent data appears in the tails of the distribution, farthest away from the mean. This is because the normal distribution \n",
    "         is symmetric around the mean, and the probability of observing data decreases as we move farther away from the mean in either direction. The tails of the \n",
    "         distribution represent extreme values, which are less likely to occur.\n",
    "\"\"\""
   ]
  },
  {
   "cell_type": "code",
   "execution_count": null,
   "id": "4fa9ee2c-b5cd-4d1f-8506-9be568693f84",
   "metadata": {},
   "outputs": [],
   "source": []
  }
 ],
 "metadata": {
  "kernelspec": {
   "display_name": "Python 3 (ipykernel)",
   "language": "python",
   "name": "python3"
  },
  "language_info": {
   "codemirror_mode": {
    "name": "ipython",
    "version": 3
   },
   "file_extension": ".py",
   "mimetype": "text/x-python",
   "name": "python",
   "nbconvert_exporter": "python",
   "pygments_lexer": "ipython3",
   "version": "3.10.8"
  }
 },
 "nbformat": 4,
 "nbformat_minor": 5
}
